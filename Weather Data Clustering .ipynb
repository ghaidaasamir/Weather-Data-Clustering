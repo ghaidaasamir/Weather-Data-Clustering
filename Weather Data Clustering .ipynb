{
 "cells": [
  {
   "cell_type": "code",
   "execution_count": 1,
   "id": "47e5fb71",
   "metadata": {},
   "outputs": [],
   "source": [
    "import pandas as pd\n",
    "import numpy as np\n",
    "import matplotlib.pyplot as plt\n",
    "import seaborn as sn\n",
    "from sklearn.preprocessing import StandardScaler\n",
    "from sklearn.model_selection import GridSearchCV\n",
    "from sklearn.model_selection import train_test_split\n",
    "from sklearn import preprocessing\n",
    "import scipy.cluster.hierarchy as shc\n",
    "from sklearn.preprocessing import RobustScaler\n",
    "from sklearn.cluster import AgglomerativeClustering\n",
    "from sklearn.neighbors import NearestNeighbors\n",
    "\n",
    "from sklearn.cluster import DBSCAN\n",
    "\n",
    "\n",
    "from sklearn.cluster import KMeans\n",
    "from sklearn.mixture import GaussianMixture\n",
    "\n",
    "from sklearn.metrics import silhouette_score\n",
    "\n",
    "%matplotlib inline"
   ]
  },
  {
   "cell_type": "code",
   "execution_count": 2,
   "id": "3f91b412",
   "metadata": {},
   "outputs": [
    {
     "name": "stderr",
     "output_type": "stream",
     "text": [
      "C:\\Users\\ghaidaa\\Anaconda3\\lib\\site-packages\\numpy\\lib\\arraysetops.py:583: FutureWarning: elementwise comparison failed; returning scalar instead, but in the future will perform elementwise comparison\n",
      "  mask |= (ar1 == a)\n"
     ]
    },
    {
     "data": {
      "text/html": [
       "<div>\n",
       "<style scoped>\n",
       "    .dataframe tbody tr th:only-of-type {\n",
       "        vertical-align: middle;\n",
       "    }\n",
       "\n",
       "    .dataframe tbody tr th {\n",
       "        vertical-align: top;\n",
       "    }\n",
       "\n",
       "    .dataframe thead th {\n",
       "        text-align: right;\n",
       "    }\n",
       "</style>\n",
       "<table border=\"1\" class=\"dataframe\">\n",
       "  <thead>\n",
       "    <tr style=\"text-align: right;\">\n",
       "      <th></th>\n",
       "      <th>hpwren_timestamp</th>\n",
       "      <th>air_pressure</th>\n",
       "      <th>air_temp</th>\n",
       "      <th>avg_wind_direction</th>\n",
       "      <th>avg_wind_speed</th>\n",
       "      <th>max_wind_direction</th>\n",
       "      <th>max_wind_speed</th>\n",
       "      <th>min_wind_direction</th>\n",
       "      <th>min_wind_speed</th>\n",
       "      <th>rain_accumulation</th>\n",
       "      <th>rain_duration</th>\n",
       "      <th>relative_humidity</th>\n",
       "    </tr>\n",
       "    <tr>\n",
       "      <th>rowID</th>\n",
       "      <th></th>\n",
       "      <th></th>\n",
       "      <th></th>\n",
       "      <th></th>\n",
       "      <th></th>\n",
       "      <th></th>\n",
       "      <th></th>\n",
       "      <th></th>\n",
       "      <th></th>\n",
       "      <th></th>\n",
       "      <th></th>\n",
       "      <th></th>\n",
       "    </tr>\n",
       "  </thead>\n",
       "  <tbody>\n",
       "    <tr>\n",
       "      <th>0</th>\n",
       "      <td>2011-09-10 00:00:49</td>\n",
       "      <td>912.3</td>\n",
       "      <td>64.76</td>\n",
       "      <td>97.0</td>\n",
       "      <td>1.2</td>\n",
       "      <td>106.0</td>\n",
       "      <td>1.6</td>\n",
       "      <td>85.0</td>\n",
       "      <td>1.0</td>\n",
       "      <td>NaN</td>\n",
       "      <td>NaN</td>\n",
       "      <td>60.5</td>\n",
       "    </tr>\n",
       "    <tr>\n",
       "      <th>1</th>\n",
       "      <td>2011-09-10 00:01:49</td>\n",
       "      <td>912.3</td>\n",
       "      <td>63.86</td>\n",
       "      <td>161.0</td>\n",
       "      <td>0.8</td>\n",
       "      <td>215.0</td>\n",
       "      <td>1.5</td>\n",
       "      <td>43.0</td>\n",
       "      <td>0.2</td>\n",
       "      <td>0.0</td>\n",
       "      <td>0.0</td>\n",
       "      <td>39.9</td>\n",
       "    </tr>\n",
       "    <tr>\n",
       "      <th>2</th>\n",
       "      <td>2011-09-10 00:02:49</td>\n",
       "      <td>912.3</td>\n",
       "      <td>64.22</td>\n",
       "      <td>77.0</td>\n",
       "      <td>0.7</td>\n",
       "      <td>143.0</td>\n",
       "      <td>1.2</td>\n",
       "      <td>324.0</td>\n",
       "      <td>0.3</td>\n",
       "      <td>0.0</td>\n",
       "      <td>0.0</td>\n",
       "      <td>43.0</td>\n",
       "    </tr>\n",
       "    <tr>\n",
       "      <th>3</th>\n",
       "      <td>2011-09-10 00:03:49</td>\n",
       "      <td>912.3</td>\n",
       "      <td>64.40</td>\n",
       "      <td>89.0</td>\n",
       "      <td>1.2</td>\n",
       "      <td>112.0</td>\n",
       "      <td>1.6</td>\n",
       "      <td>12.0</td>\n",
       "      <td>0.7</td>\n",
       "      <td>0.0</td>\n",
       "      <td>0.0</td>\n",
       "      <td>49.5</td>\n",
       "    </tr>\n",
       "    <tr>\n",
       "      <th>4</th>\n",
       "      <td>2011-09-10 00:04:49</td>\n",
       "      <td>912.3</td>\n",
       "      <td>64.40</td>\n",
       "      <td>185.0</td>\n",
       "      <td>0.4</td>\n",
       "      <td>260.0</td>\n",
       "      <td>1.0</td>\n",
       "      <td>100.0</td>\n",
       "      <td>0.1</td>\n",
       "      <td>0.0</td>\n",
       "      <td>0.0</td>\n",
       "      <td>58.8</td>\n",
       "    </tr>\n",
       "  </tbody>\n",
       "</table>\n",
       "</div>"
      ],
      "text/plain": [
       "          hpwren_timestamp  air_pressure  air_temp  avg_wind_direction  \\\n",
       "rowID                                                                    \n",
       "0      2011-09-10 00:00:49         912.3     64.76                97.0   \n",
       "1      2011-09-10 00:01:49         912.3     63.86               161.0   \n",
       "2      2011-09-10 00:02:49         912.3     64.22                77.0   \n",
       "3      2011-09-10 00:03:49         912.3     64.40                89.0   \n",
       "4      2011-09-10 00:04:49         912.3     64.40               185.0   \n",
       "\n",
       "       avg_wind_speed  max_wind_direction  max_wind_speed  min_wind_direction  \\\n",
       "rowID                                                                           \n",
       "0                 1.2               106.0             1.6                85.0   \n",
       "1                 0.8               215.0             1.5                43.0   \n",
       "2                 0.7               143.0             1.2               324.0   \n",
       "3                 1.2               112.0             1.6                12.0   \n",
       "4                 0.4               260.0             1.0               100.0   \n",
       "\n",
       "       min_wind_speed  rain_accumulation  rain_duration  relative_humidity  \n",
       "rowID                                                                       \n",
       "0                 1.0                NaN            NaN               60.5  \n",
       "1                 0.2                0.0            0.0               39.9  \n",
       "2                 0.3                0.0            0.0               43.0  \n",
       "3                 0.7                0.0            0.0               49.5  \n",
       "4                 0.1                0.0            0.0               58.8  "
      ]
     },
     "execution_count": 2,
     "metadata": {},
     "output_type": "execute_result"
    }
   ],
   "source": [
    "data = pd.read_csv('minute_weather.csv',index_col = 0)\n",
    "data.head()"
   ]
  },
  {
   "cell_type": "code",
   "execution_count": 3,
   "id": "536de90f",
   "metadata": {},
   "outputs": [],
   "source": [
    "data = data.iloc[:10000]"
   ]
  },
  {
   "cell_type": "code",
   "execution_count": 4,
   "id": "38c16828",
   "metadata": {},
   "outputs": [
    {
     "name": "stdout",
     "output_type": "stream",
     "text": [
      "<class 'pandas.core.frame.DataFrame'>\n",
      "Int64Index: 10000 entries, 0 to 9999\n",
      "Data columns (total 12 columns):\n",
      " #   Column              Non-Null Count  Dtype  \n",
      "---  ------              --------------  -----  \n",
      " 0   hpwren_timestamp    10000 non-null  object \n",
      " 1   air_pressure        10000 non-null  float64\n",
      " 2   air_temp            10000 non-null  float64\n",
      " 3   avg_wind_direction  10000 non-null  float64\n",
      " 4   avg_wind_speed      10000 non-null  float64\n",
      " 5   max_wind_direction  10000 non-null  float64\n",
      " 6   max_wind_speed      10000 non-null  float64\n",
      " 7   min_wind_direction  10000 non-null  float64\n",
      " 8   min_wind_speed      10000 non-null  float64\n",
      " 9   rain_accumulation   9999 non-null   float64\n",
      " 10  rain_duration       9999 non-null   float64\n",
      " 11  relative_humidity   10000 non-null  float64\n",
      "dtypes: float64(11), object(1)\n",
      "memory usage: 1015.6+ KB\n"
     ]
    }
   ],
   "source": [
    "data.info()"
   ]
  },
  {
   "cell_type": "code",
   "execution_count": 5,
   "id": "f3537a97",
   "metadata": {},
   "outputs": [
    {
     "data": {
      "text/plain": [
       "['air_temp',\n",
       " 'avg_wind_direction',\n",
       " 'avg_wind_speed',\n",
       " 'max_wind_direction',\n",
       " 'max_wind_speed',\n",
       " 'min_wind_direction',\n",
       " 'min_wind_speed',\n",
       " 'relative_humidity']"
      ]
     },
     "execution_count": 5,
     "metadata": {},
     "output_type": "execute_result"
    }
   ],
   "source": [
    "targeted_features = list(data.columns) \n",
    "targeted_features.remove('hpwren_timestamp')\n",
    "targeted_features.remove('air_pressure')\n",
    "targeted_features.remove('rain_accumulation')\n",
    "targeted_features.remove('rain_duration')\n",
    "targeted_features"
   ]
  },
  {
   "cell_type": "code",
   "execution_count": 6,
   "id": "692b59ba",
   "metadata": {},
   "outputs": [],
   "source": [
    "data = data[targeted_features]"
   ]
  },
  {
   "cell_type": "code",
   "execution_count": 7,
   "id": "c3b50036",
   "metadata": {},
   "outputs": [
    {
     "data": {
      "text/plain": [
       "air_temp              0\n",
       "avg_wind_direction    0\n",
       "avg_wind_speed        0\n",
       "max_wind_direction    0\n",
       "max_wind_speed        0\n",
       "min_wind_direction    0\n",
       "min_wind_speed        0\n",
       "relative_humidity     0\n",
       "dtype: int64"
      ]
     },
     "execution_count": 7,
     "metadata": {},
     "output_type": "execute_result"
    }
   ],
   "source": [
    "data.isnull().sum(axis=0)"
   ]
  },
  {
   "cell_type": "code",
   "execution_count": 8,
   "id": "df93f826",
   "metadata": {},
   "outputs": [],
   "source": [
    "data.dropna(how='any', inplace=True)"
   ]
  },
  {
   "cell_type": "code",
   "execution_count": 9,
   "id": "a130d589",
   "metadata": {},
   "outputs": [
    {
     "data": {
      "text/plain": [
       "air_temp              0\n",
       "avg_wind_direction    0\n",
       "avg_wind_speed        0\n",
       "max_wind_direction    0\n",
       "max_wind_speed        0\n",
       "min_wind_direction    0\n",
       "min_wind_speed        0\n",
       "relative_humidity     0\n",
       "dtype: int64"
      ]
     },
     "execution_count": 9,
     "metadata": {},
     "output_type": "execute_result"
    }
   ],
   "source": [
    "data.isnull().sum(axis=0)"
   ]
  },
  {
   "cell_type": "code",
   "execution_count": 10,
   "id": "4b63e745",
   "metadata": {},
   "outputs": [
    {
     "name": "stdout",
     "output_type": "stream",
     "text": [
      "<class 'pandas.core.frame.DataFrame'>\n",
      "Int64Index: 10000 entries, 0 to 9999\n",
      "Data columns (total 8 columns):\n",
      " #   Column              Non-Null Count  Dtype  \n",
      "---  ------              --------------  -----  \n",
      " 0   air_temp            10000 non-null  float64\n",
      " 1   avg_wind_direction  10000 non-null  float64\n",
      " 2   avg_wind_speed      10000 non-null  float64\n",
      " 3   max_wind_direction  10000 non-null  float64\n",
      " 4   max_wind_speed      10000 non-null  float64\n",
      " 5   min_wind_direction  10000 non-null  float64\n",
      " 6   min_wind_speed      10000 non-null  float64\n",
      " 7   relative_humidity   10000 non-null  float64\n",
      "dtypes: float64(8)\n",
      "memory usage: 703.1 KB\n"
     ]
    }
   ],
   "source": [
    "data.info()"
   ]
  },
  {
   "cell_type": "code",
   "execution_count": 11,
   "id": "0bc67842",
   "metadata": {},
   "outputs": [
    {
     "data": {
      "text/plain": [
       "Series([], dtype: bool)"
      ]
     },
     "execution_count": 11,
     "metadata": {},
     "output_type": "execute_result"
    }
   ],
   "source": [
    "data.duplicated()[(data.duplicated() == True)]"
   ]
  },
  {
   "cell_type": "code",
   "execution_count": 12,
   "id": "2c310fe5",
   "metadata": {},
   "outputs": [],
   "source": [
    "data = data.drop_duplicates()"
   ]
  },
  {
   "cell_type": "code",
   "execution_count": 13,
   "id": "d22cc594",
   "metadata": {},
   "outputs": [
    {
     "name": "stdout",
     "output_type": "stream",
     "text": [
      "<class 'pandas.core.frame.DataFrame'>\n",
      "Int64Index: 10000 entries, 0 to 9999\n",
      "Data columns (total 8 columns):\n",
      " #   Column              Non-Null Count  Dtype  \n",
      "---  ------              --------------  -----  \n",
      " 0   air_temp            10000 non-null  float64\n",
      " 1   avg_wind_direction  10000 non-null  float64\n",
      " 2   avg_wind_speed      10000 non-null  float64\n",
      " 3   max_wind_direction  10000 non-null  float64\n",
      " 4   max_wind_speed      10000 non-null  float64\n",
      " 5   min_wind_direction  10000 non-null  float64\n",
      " 6   min_wind_speed      10000 non-null  float64\n",
      " 7   relative_humidity   10000 non-null  float64\n",
      "dtypes: float64(8)\n",
      "memory usage: 703.1 KB\n"
     ]
    }
   ],
   "source": [
    "data.info()"
   ]
  },
  {
   "cell_type": "code",
   "execution_count": 14,
   "id": "2c34d65a",
   "metadata": {},
   "outputs": [
    {
     "data": {
      "text/html": [
       "<div>\n",
       "<style scoped>\n",
       "    .dataframe tbody tr th:only-of-type {\n",
       "        vertical-align: middle;\n",
       "    }\n",
       "\n",
       "    .dataframe tbody tr th {\n",
       "        vertical-align: top;\n",
       "    }\n",
       "\n",
       "    .dataframe thead th {\n",
       "        text-align: right;\n",
       "    }\n",
       "</style>\n",
       "<table border=\"1\" class=\"dataframe\">\n",
       "  <thead>\n",
       "    <tr style=\"text-align: right;\">\n",
       "      <th></th>\n",
       "      <th>air_temp</th>\n",
       "      <th>avg_wind_direction</th>\n",
       "      <th>avg_wind_speed</th>\n",
       "      <th>max_wind_direction</th>\n",
       "      <th>max_wind_speed</th>\n",
       "      <th>min_wind_direction</th>\n",
       "      <th>min_wind_speed</th>\n",
       "      <th>relative_humidity</th>\n",
       "    </tr>\n",
       "  </thead>\n",
       "  <tbody>\n",
       "    <tr>\n",
       "      <th>count</th>\n",
       "      <td>10000.000000</td>\n",
       "      <td>10000.000000</td>\n",
       "      <td>10000.000000</td>\n",
       "      <td>10000.000000</td>\n",
       "      <td>10000.000000</td>\n",
       "      <td>10000.000000</td>\n",
       "      <td>10000.000000</td>\n",
       "      <td>10000.000000</td>\n",
       "    </tr>\n",
       "    <tr>\n",
       "      <th>mean</th>\n",
       "      <td>65.794568</td>\n",
       "      <td>155.009100</td>\n",
       "      <td>1.976450</td>\n",
       "      <td>162.903900</td>\n",
       "      <td>2.428200</td>\n",
       "      <td>153.613800</td>\n",
       "      <td>1.518240</td>\n",
       "      <td>57.575680</td>\n",
       "    </tr>\n",
       "    <tr>\n",
       "      <th>std</th>\n",
       "      <td>6.202689</td>\n",
       "      <td>82.465695</td>\n",
       "      <td>1.435692</td>\n",
       "      <td>80.726324</td>\n",
       "      <td>1.636634</td>\n",
       "      <td>86.897636</td>\n",
       "      <td>1.261251</td>\n",
       "      <td>19.239663</td>\n",
       "    </tr>\n",
       "    <tr>\n",
       "      <th>min</th>\n",
       "      <td>51.980000</td>\n",
       "      <td>0.000000</td>\n",
       "      <td>0.100000</td>\n",
       "      <td>0.000000</td>\n",
       "      <td>0.100000</td>\n",
       "      <td>0.000000</td>\n",
       "      <td>0.000000</td>\n",
       "      <td>15.500000</td>\n",
       "    </tr>\n",
       "    <tr>\n",
       "      <th>25%</th>\n",
       "      <td>62.240000</td>\n",
       "      <td>85.000000</td>\n",
       "      <td>0.900000</td>\n",
       "      <td>92.000000</td>\n",
       "      <td>1.200000</td>\n",
       "      <td>85.000000</td>\n",
       "      <td>0.600000</td>\n",
       "      <td>47.600000</td>\n",
       "    </tr>\n",
       "    <tr>\n",
       "      <th>50%</th>\n",
       "      <td>66.560000</td>\n",
       "      <td>177.000000</td>\n",
       "      <td>1.600000</td>\n",
       "      <td>188.000000</td>\n",
       "      <td>1.900000</td>\n",
       "      <td>171.000000</td>\n",
       "      <td>1.200000</td>\n",
       "      <td>58.300000</td>\n",
       "    </tr>\n",
       "    <tr>\n",
       "      <th>75%</th>\n",
       "      <td>70.520000</td>\n",
       "      <td>209.000000</td>\n",
       "      <td>2.700000</td>\n",
       "      <td>218.000000</td>\n",
       "      <td>3.300000</td>\n",
       "      <td>202.000000</td>\n",
       "      <td>2.100000</td>\n",
       "      <td>69.025000</td>\n",
       "    </tr>\n",
       "    <tr>\n",
       "      <th>max</th>\n",
       "      <td>78.620000</td>\n",
       "      <td>359.000000</td>\n",
       "      <td>8.900000</td>\n",
       "      <td>359.000000</td>\n",
       "      <td>9.300000</td>\n",
       "      <td>359.000000</td>\n",
       "      <td>8.200000</td>\n",
       "      <td>91.200000</td>\n",
       "    </tr>\n",
       "  </tbody>\n",
       "</table>\n",
       "</div>"
      ],
      "text/plain": [
       "           air_temp  avg_wind_direction  avg_wind_speed  max_wind_direction  \\\n",
       "count  10000.000000        10000.000000    10000.000000        10000.000000   \n",
       "mean      65.794568          155.009100        1.976450          162.903900   \n",
       "std        6.202689           82.465695        1.435692           80.726324   \n",
       "min       51.980000            0.000000        0.100000            0.000000   \n",
       "25%       62.240000           85.000000        0.900000           92.000000   \n",
       "50%       66.560000          177.000000        1.600000          188.000000   \n",
       "75%       70.520000          209.000000        2.700000          218.000000   \n",
       "max       78.620000          359.000000        8.900000          359.000000   \n",
       "\n",
       "       max_wind_speed  min_wind_direction  min_wind_speed  relative_humidity  \n",
       "count    10000.000000        10000.000000    10000.000000       10000.000000  \n",
       "mean         2.428200          153.613800        1.518240          57.575680  \n",
       "std          1.636634           86.897636        1.261251          19.239663  \n",
       "min          0.100000            0.000000        0.000000          15.500000  \n",
       "25%          1.200000           85.000000        0.600000          47.600000  \n",
       "50%          1.900000          171.000000        1.200000          58.300000  \n",
       "75%          3.300000          202.000000        2.100000          69.025000  \n",
       "max          9.300000          359.000000        8.200000          91.200000  "
      ]
     },
     "execution_count": 14,
     "metadata": {},
     "output_type": "execute_result"
    }
   ],
   "source": [
    "data.describe()"
   ]
  },
  {
   "cell_type": "code",
   "execution_count": 15,
   "id": "274edada",
   "metadata": {},
   "outputs": [],
   "source": [
    "from sklearn.preprocessing import StandardScaler\n",
    "scaler = StandardScaler()\n",
    "data[list(data.columns)] = scaler.fit_transform(data[list(data.columns)])"
   ]
  },
  {
   "cell_type": "code",
   "execution_count": 16,
   "id": "c0868af3",
   "metadata": {
    "scrolled": true
   },
   "outputs": [
    {
     "data": {
      "text/html": [
       "<div>\n",
       "<style scoped>\n",
       "    .dataframe tbody tr th:only-of-type {\n",
       "        vertical-align: middle;\n",
       "    }\n",
       "\n",
       "    .dataframe tbody tr th {\n",
       "        vertical-align: top;\n",
       "    }\n",
       "\n",
       "    .dataframe thead th {\n",
       "        text-align: right;\n",
       "    }\n",
       "</style>\n",
       "<table border=\"1\" class=\"dataframe\">\n",
       "  <thead>\n",
       "    <tr style=\"text-align: right;\">\n",
       "      <th></th>\n",
       "      <th>air_temp</th>\n",
       "      <th>avg_wind_direction</th>\n",
       "      <th>avg_wind_speed</th>\n",
       "      <th>max_wind_direction</th>\n",
       "      <th>max_wind_speed</th>\n",
       "      <th>min_wind_direction</th>\n",
       "      <th>min_wind_speed</th>\n",
       "      <th>relative_humidity</th>\n",
       "    </tr>\n",
       "  </thead>\n",
       "  <tbody>\n",
       "    <tr>\n",
       "      <th>count</th>\n",
       "      <td>1.000000e+04</td>\n",
       "      <td>1.000000e+04</td>\n",
       "      <td>1.000000e+04</td>\n",
       "      <td>1.000000e+04</td>\n",
       "      <td>1.000000e+04</td>\n",
       "      <td>1.000000e+04</td>\n",
       "      <td>1.000000e+04</td>\n",
       "      <td>1.000000e+04</td>\n",
       "    </tr>\n",
       "    <tr>\n",
       "      <th>mean</th>\n",
       "      <td>-4.863043e-15</td>\n",
       "      <td>-6.441514e-17</td>\n",
       "      <td>-4.050232e-16</td>\n",
       "      <td>2.419343e-16</td>\n",
       "      <td>-3.489764e-16</td>\n",
       "      <td>3.495745e-17</td>\n",
       "      <td>5.446574e-16</td>\n",
       "      <td>-1.726064e-15</td>\n",
       "    </tr>\n",
       "    <tr>\n",
       "      <th>std</th>\n",
       "      <td>1.000050e+00</td>\n",
       "      <td>1.000050e+00</td>\n",
       "      <td>1.000050e+00</td>\n",
       "      <td>1.000050e+00</td>\n",
       "      <td>1.000050e+00</td>\n",
       "      <td>1.000050e+00</td>\n",
       "      <td>1.000050e+00</td>\n",
       "      <td>1.000050e+00</td>\n",
       "    </tr>\n",
       "    <tr>\n",
       "      <th>min</th>\n",
       "      <td>-2.227302e+00</td>\n",
       "      <td>-1.879774e+00</td>\n",
       "      <td>-1.307066e+00</td>\n",
       "      <td>-2.018078e+00</td>\n",
       "      <td>-1.422625e+00</td>\n",
       "      <td>-1.767844e+00</td>\n",
       "      <td>-1.203817e+00</td>\n",
       "      <td>-2.187033e+00</td>\n",
       "    </tr>\n",
       "    <tr>\n",
       "      <th>25%</th>\n",
       "      <td>-5.730975e-01</td>\n",
       "      <td>-8.489906e-01</td>\n",
       "      <td>-7.498155e-01</td>\n",
       "      <td>-8.783683e-01</td>\n",
       "      <td>-7.504802e-01</td>\n",
       "      <td>-7.896329e-01</td>\n",
       "      <td>-7.280754e-01</td>\n",
       "      <td>-5.185215e-01</td>\n",
       "    </tr>\n",
       "    <tr>\n",
       "      <th>50%</th>\n",
       "      <td>1.234094e-01</td>\n",
       "      <td>2.666806e-01</td>\n",
       "      <td>-2.622212e-01</td>\n",
       "      <td>3.108943e-01</td>\n",
       "      <td>-3.227517e-01</td>\n",
       "      <td>2.000868e-01</td>\n",
       "      <td>-2.523335e-01</td>\n",
       "      <td>3.764911e-02</td>\n",
       "    </tr>\n",
       "    <tr>\n",
       "      <th>75%</th>\n",
       "      <td>7.618742e-01</td>\n",
       "      <td>6.547401e-01</td>\n",
       "      <td>5.039983e-01</td>\n",
       "      <td>6.825389e-01</td>\n",
       "      <td>5.327053e-01</td>\n",
       "      <td>5.568462e-01</td>\n",
       "      <td>4.612793e-01</td>\n",
       "      <td>5.951192e-01</td>\n",
       "    </tr>\n",
       "    <tr>\n",
       "      <th>max</th>\n",
       "      <td>2.067825e+00</td>\n",
       "      <td>2.473769e+00</td>\n",
       "      <td>4.822690e+00</td>\n",
       "      <td>2.429268e+00</td>\n",
       "      <td>4.198950e+00</td>\n",
       "      <td>2.363660e+00</td>\n",
       "      <td>5.297989e+00</td>\n",
       "      <td>1.747744e+00</td>\n",
       "    </tr>\n",
       "  </tbody>\n",
       "</table>\n",
       "</div>"
      ],
      "text/plain": [
       "           air_temp  avg_wind_direction  avg_wind_speed  max_wind_direction  \\\n",
       "count  1.000000e+04        1.000000e+04    1.000000e+04        1.000000e+04   \n",
       "mean  -4.863043e-15       -6.441514e-17   -4.050232e-16        2.419343e-16   \n",
       "std    1.000050e+00        1.000050e+00    1.000050e+00        1.000050e+00   \n",
       "min   -2.227302e+00       -1.879774e+00   -1.307066e+00       -2.018078e+00   \n",
       "25%   -5.730975e-01       -8.489906e-01   -7.498155e-01       -8.783683e-01   \n",
       "50%    1.234094e-01        2.666806e-01   -2.622212e-01        3.108943e-01   \n",
       "75%    7.618742e-01        6.547401e-01    5.039983e-01        6.825389e-01   \n",
       "max    2.067825e+00        2.473769e+00    4.822690e+00        2.429268e+00   \n",
       "\n",
       "       max_wind_speed  min_wind_direction  min_wind_speed  relative_humidity  \n",
       "count    1.000000e+04        1.000000e+04    1.000000e+04       1.000000e+04  \n",
       "mean    -3.489764e-16        3.495745e-17    5.446574e-16      -1.726064e-15  \n",
       "std      1.000050e+00        1.000050e+00    1.000050e+00       1.000050e+00  \n",
       "min     -1.422625e+00       -1.767844e+00   -1.203817e+00      -2.187033e+00  \n",
       "25%     -7.504802e-01       -7.896329e-01   -7.280754e-01      -5.185215e-01  \n",
       "50%     -3.227517e-01        2.000868e-01   -2.523335e-01       3.764911e-02  \n",
       "75%      5.327053e-01        5.568462e-01    4.612793e-01       5.951192e-01  \n",
       "max      4.198950e+00        2.363660e+00    5.297989e+00       1.747744e+00  "
      ]
     },
     "execution_count": 16,
     "metadata": {},
     "output_type": "execute_result"
    }
   ],
   "source": [
    "data.describe()"
   ]
  },
  {
   "cell_type": "code",
   "execution_count": 17,
   "id": "37154a8c",
   "metadata": {},
   "outputs": [
    {
     "data": {
      "text/plain": [
       "<AxesSubplot:>"
      ]
     },
     "execution_count": 17,
     "metadata": {},
     "output_type": "execute_result"
    },
    {
     "data": {
      "image/png": "[encoded data removed]",
      "text/plain": [
       "<Figure size 432x288 with 1 Axes>"
      ]
     },
     "metadata": {
      "needs_background": "light"
     },
     "output_type": "display_data"
    }
   ],
   "source": [
    "data.boxplot()"
   ]
  },
  {
   "cell_type": "code",
   "execution_count": 18,
   "id": "df9ba1f5",
   "metadata": {},
   "outputs": [
    {
     "data": {
      "text/plain": [
       "707"
      ]
     },
     "execution_count": 18,
     "metadata": {},
     "output_type": "execute_result"
    }
   ],
   "source": [
    "drop_ind = set()\n",
    "drop_ind_list = []\n",
    "for c in list(data.columns):\n",
    "    #print(c,data.quantile(0.99)[c],'ffew')\n",
    "    #print(len(data[data[c] >= data.quantile(0.99)[c]]))\n",
    "    #print((data[data[c] >= data.quantile(0.99)[c]]).index)\n",
    "    drop_ind.update(list((data[data[c] >= data.quantile(0.99)[c]]).index))\n",
    "len(drop_ind)"
   ]
  },
  {
   "cell_type": "code",
   "execution_count": 19,
   "id": "dc2cb11d",
   "metadata": {},
   "outputs": [],
   "source": [
    "data.drop(drop_ind,inplace=True)"
   ]
  },
  {
   "cell_type": "markdown",
   "id": "112ee299",
   "metadata": {},
   "source": [
    "# Hierarchical"
   ]
  },
  {
   "cell_type": "code",
   "execution_count": 20,
   "id": "83454578",
   "metadata": {},
   "outputs": [
    {
     "data": {
      "image/png": "[encoded data removed]",
      "text/plain": [
       "<Figure size 720x720 with 1 Axes>"
      ]
     },
     "metadata": {
      "needs_background": "light"
     },
     "output_type": "display_data"
    }
   ],
   "source": [
    "plt.figure(figsize=(10, 10))\n",
    "plt.title(\"Counters Dendograms\")\n",
    "dend = shc.dendrogram(shc.linkage(y = data , method= 'average',metric= 'cosine'),orientation='top')"
   ]
  },
  {
   "cell_type": "code",
   "execution_count": 21,
   "id": "f65b3918",
   "metadata": {},
   "outputs": [],
   "source": [
    "from sklearn.metrics import silhouette_score,silhouette_samples\n",
    "\n",
    "linkages = ['ward', 'complete', 'average', 'single']\n",
    "affinities = ['euclidean', 'l1', 'l2', 'manhattan', 'cosine']\n",
    "num_clusters = [2,3,4,5,6]\n",
    "scores = []\n",
    "best_score = 0\n",
    "best_model = {}\n",
    "for c in num_clusters:\n",
    "    for l in linkages:\n",
    "        if l == 'ward':\n",
    "            model = AgglomerativeClustering(affinity='euclidean',n_clusters = c,linkage='ward')#,distance_threshold=100,n_clusters = 10)\n",
    "            clustering = model.fit(data)\n",
    "            labels = clustering.labels_\n",
    "            score = silhouette_score(data, labels)\n",
    "            scores.append(score)\n",
    "            if score > best_score:\n",
    "                best_score = score\n",
    "                best_model['num_clusters'] = c\n",
    "                best_model['linkage'] = l\n",
    "                best_model['affinity'] = 'euclidean'\n",
    "                best_model['score'] = score\n",
    "            pass \n",
    "        else:\n",
    "            for a in affinities:\n",
    "                model = AgglomerativeClustering(affinity= a,n_clusters = c ,linkage= l)\n",
    "                clustering = model.fit(data)\n",
    "                labels = clustering.labels_\n",
    "                score = silhouette_score(data, labels)\n",
    "                scores.append(score)\n",
    "                if score > best_score:\n",
    "                    best_score = score\n",
    "                    best_model['num_clusters'] = c\n",
    "                    best_model['linkage'] = l\n",
    "                    best_model['affinity'] = a\n",
    "                    best_model['score'] = score"
   ]
  },
  {
   "cell_type": "code",
   "execution_count": 22,
   "id": "2f45ddd3",
   "metadata": {},
   "outputs": [],
   "source": [
    "model = AgglomerativeClustering(affinity= best_model['affinity'],n_clusters =  best_model['num_clusters'],linkage= best_model['linkage'])\n",
    "clustering = model.fit(data)\n",
    "labels = clustering.labels_"
   ]
  },
  {
   "cell_type": "code",
   "execution_count": 23,
   "id": "ad620a22",
   "metadata": {},
   "outputs": [
    {
     "data": {
      "text/plain": [
       "{'num_clusters': 5,\n",
       " 'linkage': 'ward',\n",
       " 'affinity': 'euclidean',\n",
       " 'score': 0.3560627402879086}"
      ]
     },
     "execution_count": 23,
     "metadata": {},
     "output_type": "execute_result"
    }
   ],
   "source": [
    "best_model"
   ]
  },
  {
   "cell_type": "code",
   "execution_count": 24,
   "id": "75f44396",
   "metadata": {},
   "outputs": [
    {
     "data": {
      "text/plain": [
       "0    2744\n",
       "1    2326\n",
       "2    2276\n",
       "3    1598\n",
       "4     349\n",
       "dtype: int64"
      ]
     },
     "execution_count": 24,
     "metadata": {},
     "output_type": "execute_result"
    }
   ],
   "source": [
    "pd.DataFrame(labels).value_counts()"
   ]
  },
  {
   "cell_type": "code",
   "execution_count": 25,
   "id": "d78b26c7",
   "metadata": {},
   "outputs": [],
   "source": [
    "best_model_hier = best_model"
   ]
  },
  {
   "cell_type": "markdown",
   "id": "1986f15a",
   "metadata": {},
   "source": [
    "# DBSCAN"
   ]
  },
  {
   "cell_type": "code",
   "execution_count": 27,
   "id": "77433453",
   "metadata": {},
   "outputs": [],
   "source": [
    "# dbscan and plot\n",
    "eps = [0.5,1,2]\n",
    "min_samples = [50,100,150]\n",
    "scores = []\n",
    "best_score = 0\n",
    "best_model = {}\n",
    "for e in eps:\n",
    "    for m in min_samples:\n",
    "        model = DBSCAN(eps = e, min_samples = m)\n",
    "        clustering = model.fit(data)\n",
    "        labels = clustering.labels_\n",
    "        score = silhouette_score(data, labels)\n",
    "        scores.append(score)\n",
    "        if score > best_score:\n",
    "            best_score = score\n",
    "            best_model['eps'] = e\n",
    "            best_model['min_samples'] = m\n",
    "            best_model['score'] = score\n"
   ]
  },
  {
   "cell_type": "code",
   "execution_count": 28,
   "id": "060b230b",
   "metadata": {},
   "outputs": [],
   "source": [
    "model = DBSCAN(eps = best_model['eps'],min_samples = best_model['min_samples'])\n",
    "clustering = model.fit(data)\n",
    "labels = clustering.labels_"
   ]
  },
  {
   "cell_type": "code",
   "execution_count": 29,
   "id": "868b732b",
   "metadata": {},
   "outputs": [
    {
     "data": {
      "text/plain": [
       "{'eps': 2, 'min_samples': 50, 'score': 0.2807294553272917}"
      ]
     },
     "execution_count": 29,
     "metadata": {},
     "output_type": "execute_result"
    }
   ],
   "source": [
    "best_model"
   ]
  },
  {
   "cell_type": "code",
   "execution_count": 30,
   "id": "b2688896",
   "metadata": {
    "scrolled": true
   },
   "outputs": [
    {
     "data": {
      "text/plain": [
       " 0    9285\n",
       "-1       8\n",
       "dtype: int64"
      ]
     },
     "execution_count": 30,
     "metadata": {},
     "output_type": "execute_result"
    }
   ],
   "source": [
    "pd.DataFrame(labels).value_counts()"
   ]
  },
  {
   "cell_type": "code",
   "execution_count": 31,
   "id": "a5d08d5c",
   "metadata": {},
   "outputs": [],
   "source": [
    "best_model_dbscan = best_model"
   ]
  },
  {
   "cell_type": "markdown",
   "id": "363fc0d6",
   "metadata": {},
   "source": [
    "# K-means"
   ]
  },
  {
   "cell_type": "code",
   "execution_count": 32,
   "id": "49465260",
   "metadata": {},
   "outputs": [
    {
     "data": {
      "image/png": "[encoded data removed]",
      "text/plain": [
       "<Figure size 1152x576 with 1 Axes>"
      ]
     },
     "metadata": {
      "needs_background": "light"
     },
     "output_type": "display_data"
    }
   ],
   "source": [
    "distortions = []\n",
    "K = range(1,10)\n",
    "for k in K:\n",
    "    kmeanModel = KMeans(n_clusters=k)\n",
    "    kmeanModel.fit(data)\n",
    "    distortions.append(kmeanModel.inertia_)\n",
    "\n",
    "plt.figure(figsize=(16,8))\n",
    "plt.plot(K, distortions, 'bx-')\n",
    "plt.xlabel('k')\n",
    "plt.ylabel('Distortion')\n",
    "plt.title('The Elbow Method showing the optimal k')\n",
    "plt.show()"
   ]
  },
  {
   "cell_type": "code",
   "execution_count": 33,
   "id": "e404bfc5",
   "metadata": {},
   "outputs": [],
   "source": [
    "K = range(2,10)\n",
    "scores = []\n",
    "best_score = 0\n",
    "best_model_kmeans = {}\n",
    "for k in K:\n",
    "    model = KMeans(n_clusters=k)\n",
    "    clustering = model.fit(data)\n",
    "    labels = clustering.labels_\n",
    "    score = silhouette_score(data, labels)\n",
    "    scores.append(score)\n",
    "    if score > best_score:\n",
    "        best_model_kmeans['best_score'] = score\n",
    "        best_model_kmeans['k'] = k\n",
    "        best_score = score"
   ]
  },
  {
   "cell_type": "code",
   "execution_count": 35,
   "id": "51f74a91",
   "metadata": {},
   "outputs": [],
   "source": [
    "model = KMeans(n_clusters = best_model_kmeans['k'])\n",
    "clustering = model.fit(data)\n",
    "labels = clustering.labels_"
   ]
  },
  {
   "cell_type": "code",
   "execution_count": 36,
   "id": "1078b50b",
   "metadata": {},
   "outputs": [
    {
     "data": {
      "text/plain": [
       "{'best_score': 0.38162828280944805, 'k': 5}"
      ]
     },
     "execution_count": 36,
     "metadata": {},
     "output_type": "execute_result"
    }
   ],
   "source": [
    "best_model_kmeans"
   ]
  },
  {
   "cell_type": "code",
   "execution_count": 37,
   "id": "8a73fc38",
   "metadata": {},
   "outputs": [
    {
     "data": {
      "text/plain": [
       "3    2710\n",
       "0    2413\n",
       "1    2083\n",
       "2    1757\n",
       "4     330\n",
       "dtype: int64"
      ]
     },
     "execution_count": 37,
     "metadata": {},
     "output_type": "execute_result"
    }
   ],
   "source": [
    "pd.DataFrame(labels).value_counts()"
   ]
  },
  {
   "cell_type": "code",
   "execution_count": null,
   "id": "c2ef9d26",
   "metadata": {},
   "outputs": [],
   "source": []
  },
  {
   "cell_type": "markdown",
   "id": "005016e1",
   "metadata": {},
   "source": [
    "# gaussian mixture model"
   ]
  },
  {
   "cell_type": "code",
   "execution_count": 38,
   "id": "3b9e6b62",
   "metadata": {},
   "outputs": [],
   "source": [
    "best_model_gmm = {}\n",
    "best_score = -1\n",
    "for i in range(2,6):\n",
    "    gmm = GaussianMixture(n_components=i,random_state=0).fit(data)\n",
    "    labels = gmm.predict(data)\n",
    "    score = silhouette_score(data, labels)\n",
    "    scores.append(score)\n",
    "    if score > best_score:\n",
    "        best_score = score\n",
    "        best_model_gmm['num_clusters'] = i\n",
    "        best_model_gmm['best_score'] = score\n",
    "        \n",
    "gmm = GaussianMixture(n_components=best_model_gmm['num_clusters'],random_state=0).fit(data)\n",
    "labels = gmm.predict(data)"
   ]
  },
  {
   "cell_type": "code",
   "execution_count": 39,
   "id": "adf92e2d",
   "metadata": {},
   "outputs": [
    {
     "data": {
      "text/plain": [
       "{'num_clusters': 4, 'best_score': 0.21649404105923795}"
      ]
     },
     "execution_count": 39,
     "metadata": {},
     "output_type": "execute_result"
    }
   ],
   "source": [
    "best_model_gmm"
   ]
  },
  {
   "cell_type": "code",
   "execution_count": 40,
   "id": "9a29f72f",
   "metadata": {},
   "outputs": [
    {
     "data": {
      "text/plain": [
       "2    3819\n",
       "0    2709\n",
       "1    1598\n",
       "3    1167\n",
       "dtype: int64"
      ]
     },
     "execution_count": 40,
     "metadata": {},
     "output_type": "execute_result"
    }
   ],
   "source": [
    "pd.DataFrame(labels).value_counts()"
   ]
  },
  {
   "cell_type": "markdown",
   "id": "9d6696a7",
   "metadata": {},
   "source": [
    "# PCA"
   ]
  },
  {
   "cell_type": "code",
   "execution_count": 41,
   "id": "4ab26936",
   "metadata": {},
   "outputs": [
    {
     "name": "stdout",
     "output_type": "stream",
     "text": [
      "[0.41100931 0.27834641 0.2047156  0.05763662 0.02018254 0.01853878\n",
      " 0.00906784 0.0005029 ]\n"
     ]
    }
   ],
   "source": [
    "from sklearn.decomposition import PCA\n",
    "pca = PCA()\n",
    "train_pca = pca.fit_transform(data)\n",
    "print(pca.explained_variance_ratio_)"
   ]
  },
  {
   "cell_type": "code",
   "execution_count": 42,
   "id": "3ea454d5",
   "metadata": {},
   "outputs": [
    {
     "data": {
      "text/plain": [
       "array([[-1.34515674, -0.20594755],\n",
       "       [-1.22296031,  0.13711855],\n",
       "       [-0.97175206,  0.52053191],\n",
       "       ...,\n",
       "       [ 0.24038753,  2.27713804],\n",
       "       [ 0.25579739,  2.21743027],\n",
       "       [-0.13806243,  2.12929249]])"
      ]
     },
     "execution_count": 42,
     "metadata": {},
     "output_type": "execute_result"
    }
   ],
   "source": [
    "train_pca = train_pca[:,:2]\n",
    "train_pca"
   ]
  },
  {
   "cell_type": "code",
   "execution_count": 43,
   "id": "32be9a7a",
   "metadata": {},
   "outputs": [
    {
     "data": {
      "text/html": [
       "<div>\n",
       "<style scoped>\n",
       "    .dataframe tbody tr th:only-of-type {\n",
       "        vertical-align: middle;\n",
       "    }\n",
       "\n",
       "    .dataframe tbody tr th {\n",
       "        vertical-align: top;\n",
       "    }\n",
       "\n",
       "    .dataframe thead th {\n",
       "        text-align: right;\n",
       "    }\n",
       "</style>\n",
       "<table border=\"1\" class=\"dataframe\">\n",
       "  <thead>\n",
       "    <tr style=\"text-align: right;\">\n",
       "      <th></th>\n",
       "      <th>0</th>\n",
       "      <th>1</th>\n",
       "    </tr>\n",
       "  </thead>\n",
       "  <tbody>\n",
       "    <tr>\n",
       "      <th>count</th>\n",
       "      <td>9.293000e+03</td>\n",
       "      <td>9.293000e+03</td>\n",
       "    </tr>\n",
       "    <tr>\n",
       "      <th>mean</th>\n",
       "      <td>-1.311080e-16</td>\n",
       "      <td>6.230534e-16</td>\n",
       "    </tr>\n",
       "    <tr>\n",
       "      <th>std</th>\n",
       "      <td>1.718623e+00</td>\n",
       "      <td>1.414320e+00</td>\n",
       "    </tr>\n",
       "    <tr>\n",
       "      <th>min</th>\n",
       "      <td>-3.268858e+00</td>\n",
       "      <td>-3.627399e+00</td>\n",
       "    </tr>\n",
       "    <tr>\n",
       "      <th>25%</th>\n",
       "      <td>-1.335690e+00</td>\n",
       "      <td>-9.671192e-01</td>\n",
       "    </tr>\n",
       "    <tr>\n",
       "      <th>50%</th>\n",
       "      <td>-3.246019e-01</td>\n",
       "      <td>-8.550856e-02</td>\n",
       "    </tr>\n",
       "    <tr>\n",
       "      <th>75%</th>\n",
       "      <td>1.097751e+00</td>\n",
       "      <td>8.958545e-01</td>\n",
       "    </tr>\n",
       "    <tr>\n",
       "      <th>max</th>\n",
       "      <td>4.669827e+00</td>\n",
       "      <td>4.652710e+00</td>\n",
       "    </tr>\n",
       "  </tbody>\n",
       "</table>\n",
       "</div>"
      ],
      "text/plain": [
       "                  0             1\n",
       "count  9.293000e+03  9.293000e+03\n",
       "mean  -1.311080e-16  6.230534e-16\n",
       "std    1.718623e+00  1.414320e+00\n",
       "min   -3.268858e+00 -3.627399e+00\n",
       "25%   -1.335690e+00 -9.671192e-01\n",
       "50%   -3.246019e-01 -8.550856e-02\n",
       "75%    1.097751e+00  8.958545e-01\n",
       "max    4.669827e+00  4.652710e+00"
      ]
     },
     "execution_count": 43,
     "metadata": {},
     "output_type": "execute_result"
    }
   ],
   "source": [
    "train_pca = pd.DataFrame(train_pca)\n",
    "train_pca.describe()"
   ]
  },
  {
   "cell_type": "code",
   "execution_count": 44,
   "id": "c6bf68e0",
   "metadata": {},
   "outputs": [
    {
     "data": {
      "text/plain": [
       "<matplotlib.collections.PathCollection at 0x14899ae9f40>"
      ]
     },
     "execution_count": 44,
     "metadata": {},
     "output_type": "execute_result"
    },
    {
     "data": {
      "image/png": "[encoded data removed]",
      "text/plain": [
       "<Figure size 432x288 with 1 Axes>"
      ]
     },
     "metadata": {
      "needs_background": "light"
     },
     "output_type": "display_data"
    }
   ],
   "source": [
    "plt.scatter(train_pca.iloc[:,0],train_pca.iloc[:,1])"
   ]
  },
  {
   "cell_type": "code",
   "execution_count": 45,
   "id": "44dfef2b",
   "metadata": {},
   "outputs": [
    {
     "name": "stderr",
     "output_type": "stream",
     "text": [
      "C:\\Users\\ghaidaa\\Anaconda3\\lib\\site-packages\\sklearn\\utils\\validation.py:993: DataConversionWarning: A column-vector y was passed when a 1d array was expected. Please change the shape of y to (n_samples, ), for example using ravel().\n",
      "  y = column_or_1d(y, warn=True)\n"
     ]
    },
    {
     "data": {
      "image/png": "[encoded data removed]",
      "text/plain": [
       "<Figure size 432x288 with 1 Axes>"
      ]
     },
     "metadata": {
      "needs_background": "light"
     },
     "output_type": "display_data"
    }
   ],
   "source": [
    "from sklearn.cluster import AgglomerativeClustering\n",
    "model = AgglomerativeClustering(affinity='euclidean',distance_threshold=None,n_clusters = 3,linkage='ward')#,distance_threshold=100,n_clusters = 10)\n",
    "clustering = model.fit(train_pca)\n",
    "cluster_label = pd.DataFrame(clustering.labels_)\n",
    "plt.scatter(train_pca.iloc[:,0],train_pca.iloc[:,1],c=cluster_label)\n",
    "score_hier = silhouette_score(data, cluster_label)"
   ]
  },
  {
   "cell_type": "code",
   "execution_count": 46,
   "id": "4f1905ef",
   "metadata": {},
   "outputs": [
    {
     "name": "stderr",
     "output_type": "stream",
     "text": [
      "C:\\Users\\ghaidaa\\Anaconda3\\lib\\site-packages\\sklearn\\utils\\validation.py:993: DataConversionWarning: A column-vector y was passed when a 1d array was expected. Please change the shape of y to (n_samples, ), for example using ravel().\n",
      "  y = column_or_1d(y, warn=True)\n"
     ]
    },
    {
     "data": {
      "image/png": "[encoded data removed]",
      "text/plain": [
       "<Figure size 432x288 with 1 Axes>"
      ]
     },
     "metadata": {
      "needs_background": "light"
     },
     "output_type": "display_data"
    }
   ],
   "source": [
    "model = DBSCAN(eps = 0.5, min_samples = 250)\n",
    "clustering = model.fit(train_pca)\n",
    "cluster_label = clustering.labels_\n",
    "cluster_label = pd.DataFrame(cluster_label)\n",
    "plt.scatter(train_pca.iloc[:,0],train_pca.iloc[:,1],c=cluster_label)\n",
    "score_dbscan = silhouette_score(data, cluster_label)"
   ]
  },
  {
   "cell_type": "code",
   "execution_count": 47,
   "id": "e7a23e2e",
   "metadata": {},
   "outputs": [
    {
     "name": "stderr",
     "output_type": "stream",
     "text": [
      "C:\\Users\\ghaidaa\\Anaconda3\\lib\\site-packages\\sklearn\\utils\\validation.py:993: DataConversionWarning: A column-vector y was passed when a 1d array was expected. Please change the shape of y to (n_samples, ), for example using ravel().\n",
      "  y = column_or_1d(y, warn=True)\n"
     ]
    },
    {
     "data": {
      "image/png": "[encoded data removed]",
      "text/plain": [
       "<Figure size 432x288 with 1 Axes>"
      ]
     },
     "metadata": {
      "needs_background": "light"
     },
     "output_type": "display_data"
    }
   ],
   "source": [
    "model = KMeans(n_clusters=3)\n",
    "clustering = model.fit(train_pca)\n",
    "cluster_label = clustering.labels_\n",
    "cluster_label = pd.DataFrame(clustering.labels_)\n",
    "plt.scatter(train_pca.iloc[:,0],train_pca.iloc[:,1],c=cluster_label)\n",
    "score_kmeans = silhouette_score(data, cluster_label)"
   ]
  },
  {
   "cell_type": "code",
   "execution_count": 48,
   "id": "346b7c94",
   "metadata": {},
   "outputs": [
    {
     "name": "stderr",
     "output_type": "stream",
     "text": [
      "C:\\Users\\ghaidaa\\Anaconda3\\lib\\site-packages\\sklearn\\utils\\validation.py:993: DataConversionWarning: A column-vector y was passed when a 1d array was expected. Please change the shape of y to (n_samples, ), for example using ravel().\n",
      "  y = column_or_1d(y, warn=True)\n"
     ]
    },
    {
     "data": {
      "image/png": "[encoded data removed]",
      "text/plain": [
       "<Figure size 432x288 with 1 Axes>"
      ]
     },
     "metadata": {
      "needs_background": "light"
     },
     "output_type": "display_data"
    }
   ],
   "source": [
    "gmm = GaussianMixture(n_components=3,random_state=0).fit(train_pca)\n",
    "cluster_label = gmm.predict(train_pca)\n",
    "cluster_label = pd.DataFrame(cluster_label)\n",
    "plt.scatter(train_pca.iloc[:,0],train_pca.iloc[:,1],c=cluster_label)\n",
    "score_gauss = silhouette_score(data, cluster_label)"
   ]
  },
  {
   "cell_type": "code",
   "execution_count": 49,
   "id": "3fa18b17",
   "metadata": {},
   "outputs": [
    {
     "data": {
      "text/html": [
       "<div>\n",
       "<style scoped>\n",
       "    .dataframe tbody tr th:only-of-type {\n",
       "        vertical-align: middle;\n",
       "    }\n",
       "\n",
       "    .dataframe tbody tr th {\n",
       "        vertical-align: top;\n",
       "    }\n",
       "\n",
       "    .dataframe thead th {\n",
       "        text-align: right;\n",
       "    }\n",
       "</style>\n",
       "<table border=\"1\" class=\"dataframe\">\n",
       "  <thead>\n",
       "    <tr style=\"text-align: right;\">\n",
       "      <th></th>\n",
       "      <th>score_dbscan_pca</th>\n",
       "      <th>score_hier_pca</th>\n",
       "      <th>score_gauss_pca</th>\n",
       "      <th>score_kmeans_pca</th>\n",
       "    </tr>\n",
       "  </thead>\n",
       "  <tbody>\n",
       "    <tr>\n",
       "      <th>0</th>\n",
       "      <td>0.058201</td>\n",
       "      <td>0.256731</td>\n",
       "      <td>0.29975</td>\n",
       "      <td>0.306848</td>\n",
       "    </tr>\n",
       "  </tbody>\n",
       "</table>\n",
       "</div>"
      ],
      "text/plain": [
       "   score_dbscan_pca  score_hier_pca  score_gauss_pca  score_kmeans_pca\n",
       "0          0.058201        0.256731          0.29975          0.306848"
      ]
     },
     "execution_count": 49,
     "metadata": {},
     "output_type": "execute_result"
    }
   ],
   "source": [
    "pd.DataFrame({'score_dbscan_pca':[score_dbscan],'score_hier_pca':[score_hier],'score_gauss_pca':[score_gauss],'score_kmeans_pca':[score_kmeans]})"
   ]
  },
  {
   "cell_type": "code",
   "execution_count": 50,
   "id": "5576fd2a",
   "metadata": {},
   "outputs": [
    {
     "data": {
      "text/html": [
       "<div>\n",
       "<style scoped>\n",
       "    .dataframe tbody tr th:only-of-type {\n",
       "        vertical-align: middle;\n",
       "    }\n",
       "\n",
       "    .dataframe tbody tr th {\n",
       "        vertical-align: top;\n",
       "    }\n",
       "\n",
       "    .dataframe thead th {\n",
       "        text-align: right;\n",
       "    }\n",
       "</style>\n",
       "<table border=\"1\" class=\"dataframe\">\n",
       "  <thead>\n",
       "    <tr style=\"text-align: right;\">\n",
       "      <th></th>\n",
       "      <th>score_dbscan</th>\n",
       "      <th>score_hier</th>\n",
       "      <th>score_gauss</th>\n",
       "      <th>score_kmeans</th>\n",
       "    </tr>\n",
       "  </thead>\n",
       "  <tbody>\n",
       "    <tr>\n",
       "      <th>0</th>\n",
       "      <td>0.280729</td>\n",
       "      <td>0.356063</td>\n",
       "      <td>0.216494</td>\n",
       "      <td>0.381628</td>\n",
       "    </tr>\n",
       "  </tbody>\n",
       "</table>\n",
       "</div>"
      ],
      "text/plain": [
       "   score_dbscan  score_hier  score_gauss  score_kmeans\n",
       "0      0.280729    0.356063     0.216494      0.381628"
      ]
     },
     "execution_count": 50,
     "metadata": {},
     "output_type": "execute_result"
    }
   ],
   "source": [
    "pd.DataFrame({'score_dbscan':[best_model_dbscan['score']],'score_hier':[best_model_hier['score']],'score_gauss':[best_model_gmm['best_score']],'score_kmeans':[best_model_kmeans['best_score']]})"
   ]
  },
  {
   "cell_type": "code",
   "execution_count": null,
   "id": "934ae1fe",
   "metadata": {},
   "outputs": [],
   "source": []
  },
  {
   "cell_type": "code",
   "execution_count": null,
   "id": "2423ef26",
   "metadata": {},
   "outputs": [],
   "source": []
  }
 ],
 "metadata": {
  "kernelspec": {
   "display_name": "Python 3 (ipykernel)",
   "language": "python",
   "name": "python3"
  },
  "language_info": {
   "codemirror_mode": {
    "name": "ipython",
    "version": 3
   },
   "file_extension": ".py",
   "mimetype": "text/x-python",
   "name": "python",
   "nbconvert_exporter": "python",
   "pygments_lexer": "ipython3",
   "version": "3.9.7"
  }
 },
 "nbformat": 4,
 "nbformat_minor": 5
}
